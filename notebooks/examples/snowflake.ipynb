{
 "cells": [
  {
   "cell_type": "code",
   "execution_count": null,
   "metadata": {},
   "outputs": [],
   "source": [
    "import snowflake.connector\n",
    "\n",
    "conn_info = dict(\n",
    "    user = ...,\n",
    "    role = ...,\n",
    "    account = ...,\n",
    "    authenticator=...,\n",
    "    database=...,\n",
    "    schema=...,\n",
    ")\n",
    "conn = snowflake.connector.connect(**conn_info)\n",
    "cur = conn.cursor()\n"
   ]
  },
  {
   "cell_type": "code",
   "execution_count": null,
   "metadata": {
    "tags": [
     "foo"
    ]
   },
   "outputs": [],
   "source": [
    "from snowflake.sqlalchemy import URL\n",
    "from sqlalchemy import create_engine\n",
    "\n",
    "url = URL(**conn_info)\n",
    "\n",
    "engine = create_engine(url)\n",
    "\n",
    "%reload_ext sql\n",
    "\n",
    "%config SqlMagic.feedback = False\n",
    "%config SqlMagic.displaycon = False\n",
    "%config SqlMagic.autopandas = True\n",
    "%sql engine\n",
    "%sql select current_warehouse(), current_database(), current_schema()"
   ]
  },
  {
   "cell_type": "code",
   "execution_count": 66,
   "metadata": {},
   "outputs": [
    {
     "data": {
      "text/plain": [
       "[(datetime.datetime(2020, 12, 31, 0, 1, 2, 345678),\n",
       "  datetime.datetime(2020, 12, 31, 0, 1, 2, 345678, tzinfo=<UTC>),\n",
       "  datetime.datetime(2020, 12, 31, 0, 1, 2, 345678, tzinfo=pytz.FixedOffset(600)),\n",
       "  datetime.datetime(2020, 12, 31, 0, 1, 2, 345678))]"
      ]
     },
     "execution_count": 66,
     "metadata": {},
     "output_type": "execute_result"
    }
   ],
   "source": [
    "cur.execute(\n",
    "    \"select '2020-12-31 00:01:02.345678 +0000'::timestamp_tz::timestamp, '2020-12-31 00:01:02.345678+00:00'::timestamp_tz, '2020-12-31 00:01:02.345678+10:00'::timestamp_tz, '2020-12-31 00:01:02.345678+10:00'::timestamp_tz::timestamp\"\n",
    ").fetchall()"
   ]
  },
  {
   "cell_type": "code",
   "execution_count": 72,
   "metadata": {},
   "outputs": [
    {
     "data": {
      "text/html": [
       "<div>\n",
       "<style scoped>\n",
       "    .dataframe tbody tr th:only-of-type {\n",
       "        vertical-align: middle;\n",
       "    }\n",
       "\n",
       "    .dataframe tbody tr th {\n",
       "        vertical-align: top;\n",
       "    }\n",
       "\n",
       "    .dataframe thead th {\n",
       "        text-align: right;\n",
       "    }\n",
       "</style>\n",
       "<table border=\"1\" class=\"dataframe\">\n",
       "  <thead>\n",
       "    <tr style=\"text-align: right;\">\n",
       "      <th></th>\n",
       "      <th>'2020-12-31 00:01:02.345678+00:00' ::TIMESTAMP_TZ::TIMESTAMP</th>\n",
       "      <th>'2020-12-31 00:01:02.345678+00:00' ::TIMESTAMP_TZ</th>\n",
       "      <th>'2020-12-31 00:01:02.345678+10:00' ::TIMESTAMP_TZ</th>\n",
       "      <th>'2020-12-31 00:01:02.345678 +1000' ::TIMESTAMP_TZ</th>\n",
       "    </tr>\n",
       "  </thead>\n",
       "  <tbody>\n",
       "    <tr>\n",
       "      <th>0</th>\n",
       "      <td>2020-12-31 00:01:02.345678</td>\n",
       "      <td>2020-12-31 00:01:02.345678+00:00</td>\n",
       "      <td>2020-12-31 00:01:02.345678+10:00</td>\n",
       "      <td>2020-12-31 00:01:02.345678+10:00</td>\n",
       "    </tr>\n",
       "  </tbody>\n",
       "</table>\n",
       "</div>"
      ],
      "text/plain": [
       "  '2020-12-31 00:01:02.345678+00:00' ::TIMESTAMP_TZ::TIMESTAMP  \\\n",
       "0                         2020-12-31 00:01:02.345678             \n",
       "\n",
       "  '2020-12-31 00:01:02.345678+00:00' ::TIMESTAMP_TZ  \\\n",
       "0                  2020-12-31 00:01:02.345678+00:00   \n",
       "\n",
       "  '2020-12-31 00:01:02.345678+10:00' ::TIMESTAMP_TZ  \\\n",
       "0                  2020-12-31 00:01:02.345678+10:00   \n",
       "\n",
       "  '2020-12-31 00:01:02.345678 +1000' ::TIMESTAMP_TZ  \n",
       "0                  2020-12-31 00:01:02.345678+10:00  "
      ]
     },
     "execution_count": 72,
     "metadata": {},
     "output_type": "execute_result"
    }
   ],
   "source": [
    "%sql select '2020-12-31 00:01:02.345678+00:00'::timestamp_tz::timestamp, '2020-12-31 00:01:02.345678+00:00'::timestamp_tz, '2020-12-31 00:01:02.345678+10:00'::timestamp_tz, '2020-12-31 00:01:02.345678 +1000'::timestamp_tz"
   ]
  },
  {
   "cell_type": "code",
   "execution_count": 76,
   "metadata": {},
   "outputs": [
    {
     "data": {
      "text/plain": [
       "[(datetime.datetime(2020, 12, 31, 0, 1, 2, 345678),\n",
       "  datetime.datetime(2020, 12, 31, 0, 1, 2, 345678))]"
      ]
     },
     "execution_count": 76,
     "metadata": {},
     "output_type": "execute_result"
    }
   ],
   "source": [
    "cur.execute(\n",
    "    \"select '2020-12-31 00:01:02.345678+10:00'::timestamp_tz::timestamp, '2020-12-31 00:01:02.345678'::timestamp_tz::timestamp\"\n",
    ").fetchall()"
   ]
  },
  {
   "cell_type": "code",
   "execution_count": 80,
   "metadata": {},
   "outputs": [],
   "source": [
    "import datetime\n",
    "\n",
    "import pandas as pd\n",
    "import pytz\n",
    "import snowflake.connector.pandas_tools\n",
    "\n",
    "cur.execute(\"create or replace table example (UPDATE_AT_NTZ timestamp_ntz(9))\")\n",
    "# cur.execute(\"create table example (UPDATE_AT_NTZ timestamp)\")\n",
    "\n",
    "now_utc = datetime.datetime.now(pytz.utc)\n",
    "df = pd.DataFrame([(now_utc,)], columns=[\"UPDATE_AT_NTZ\"])\n",
    "snowflake.connector.pandas_tools.write_pandas(conn, df, \"EXAMPLE\")\n",
    "\n",
    "cur.execute(\"select * from example\")\n",
    "\n",
    "assert cur.fetchall() == [(now_utc.replace(tzinfo=None),)]"
   ]
  },
  {
   "cell_type": "code",
   "execution_count": 57,
   "metadata": {},
   "outputs": [
    {
     "name": "stderr",
     "output_type": "stream",
     "text": [
      "INFO:backoff:Backing off send_request(...) for 0.8s (requests.exceptions.ReadTimeout: HTTPSConnectionPool(host='app.posthog.com', port=443): Read timed out. (read timeout=15))\n"
     ]
    },
    {
     "data": {
      "text/html": [
       "<div>\n",
       "<style scoped>\n",
       "    .dataframe tbody tr th:only-of-type {\n",
       "        vertical-align: middle;\n",
       "    }\n",
       "\n",
       "    .dataframe tbody tr th {\n",
       "        vertical-align: top;\n",
       "    }\n",
       "\n",
       "    .dataframe thead th {\n",
       "        text-align: right;\n",
       "    }\n",
       "</style>\n",
       "<table border=\"1\" class=\"dataframe\">\n",
       "  <thead>\n",
       "    <tr style=\"text-align: right;\">\n",
       "      <th></th>\n",
       "      <th>'2020-12-31 00:01:02.345678 +0000' ::TIMESTAMP_TZ::TIMESTAMP</th>\n",
       "      <th>'2020-12-31 00:01:02.345678 +0000' ::TIMESTAMP_TZ</th>\n",
       "    </tr>\n",
       "  </thead>\n",
       "  <tbody>\n",
       "    <tr>\n",
       "      <th>0</th>\n",
       "      <td>2020-12-31 00:01:02.345678</td>\n",
       "      <td>2020-12-31 00:01:02.345678+00:00</td>\n",
       "    </tr>\n",
       "  </tbody>\n",
       "</table>\n",
       "</div>"
      ],
      "text/plain": [
       "  '2020-12-31 00:01:02.345678 +0000' ::TIMESTAMP_TZ::TIMESTAMP  \\\n",
       "0                         2020-12-31 00:01:02.345678             \n",
       "\n",
       "  '2020-12-31 00:01:02.345678 +0000' ::TIMESTAMP_TZ  \n",
       "0                  2020-12-31 00:01:02.345678+00:00  "
      ]
     },
     "execution_count": 57,
     "metadata": {},
     "output_type": "execute_result"
    }
   ],
   "source": [
    "%sql select '2020-12-31 00:01:02.345678 +0000'::timestamp_tz::timestamp, '2020-12-31 00:01:02.345678 +0000'::timestamp_tz"
   ]
  },
  {
   "cell_type": "code",
   "execution_count": 22,
   "metadata": {},
   "outputs": [
    {
     "data": {
      "text/html": [
       "<div>\n",
       "<style scoped>\n",
       "    .dataframe tbody tr th:only-of-type {\n",
       "        vertical-align: middle;\n",
       "    }\n",
       "\n",
       "    .dataframe tbody tr th {\n",
       "        vertical-align: top;\n",
       "    }\n",
       "\n",
       "    .dataframe thead th {\n",
       "        text-align: right;\n",
       "    }\n",
       "</style>\n",
       "<table border=\"1\" class=\"dataframe\">\n",
       "  <thead>\n",
       "    <tr style=\"text-align: right;\">\n",
       "      <th></th>\n",
       "      <th>SYSTEM$TYPEOF(TO_DATE(TO_TIMESTAMP(0)))</th>\n",
       "    </tr>\n",
       "  </thead>\n",
       "  <tbody>\n",
       "    <tr>\n",
       "      <th>0</th>\n",
       "      <td>DATE[SB4]</td>\n",
       "    </tr>\n",
       "  </tbody>\n",
       "</table>\n",
       "</div>"
      ],
      "text/plain": [
       "  SYSTEM$TYPEOF(TO_DATE(TO_TIMESTAMP(0)))\n",
       "0                               DATE[SB4]"
      ]
     },
     "execution_count": 22,
     "metadata": {},
     "output_type": "execute_result"
    }
   ],
   "source": [
    "%sql SELECT system$typeof(to_date(to_timestamp(0)))"
   ]
  },
  {
   "cell_type": "code",
   "execution_count": 14,
   "metadata": {},
   "outputs": [
    {
     "data": {
      "text/plain": [
       "[(datetime.datetime(2013, 4, 5, 1, 2, 3),)]"
      ]
     },
     "execution_count": 14,
     "metadata": {},
     "output_type": "execute_result"
    }
   ],
   "source": [
    "cur.execute(\"SELECT to_timestamp('2013-04-05 01:02:03')\").fetchall()"
   ]
  }
 ],
 "metadata": {
  "kernelspec": {
   "display_name": ".venv",
   "language": "python",
   "name": "python3"
  },
  "language_info": {
   "codemirror_mode": {
    "name": "ipython",
    "version": 3
   },
   "file_extension": ".py",
   "mimetype": "text/x-python",
   "name": "python",
   "nbconvert_exporter": "python",
   "pygments_lexer": "ipython3",
   "version": "3.9.18"
  },
  "orig_nbformat": 4,
  "vscode": {
   "interpreter": {
    "hash": "f59249d332647baa27896e48b602655774b2ab27cda0296fe135a6398572f9c3"
   }
  }
 },
 "nbformat": 4,
 "nbformat_minor": 2
}
