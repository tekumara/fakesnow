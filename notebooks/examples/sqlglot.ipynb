{
 "cells": [
  {
   "cell_type": "code",
   "execution_count": 2,
   "metadata": {},
   "outputs": [],
   "source": [
    "import sqlglot\n",
    "from sqlglot import exp\n",
    "\n",
    "import fakesnow.transforms as transforms"
   ]
  },
  {
   "cell_type": "code",
   "execution_count": 76,
   "metadata": {},
   "outputs": [
    {
     "data": {
      "text/plain": [
       "'SELECT t.id, flat.value[\\'fruit\\'] FROM (SELECT 1, JSON(\\'[{\"fruit\":\"banana\"}]\\') UNION SELECT 2, JSON(\\'[{\"fruit\":\"coconut\"}, {\"fruit\":\"durian\"}]\\')) AS t(id, fruits), LATERAL UNNEST(input => t.fruits) AS _flattened(SEQ, KEY, PATH, INDEX, VALUE, THIS)'"
      ]
     },
     "execution_count": 76,
     "metadata": {},
     "output_type": "execute_result"
    }
   ],
   "source": [
    "sqlglot.parse_one(\"\"\"\n",
    "            select t.id, flat.value:fruit from\n",
    "            (\n",
    "                select 1, parse_json('[{\"fruit\":\"banana\"}]')\n",
    "                union\n",
    "                select 2, parse_json('[{\"fruit\":\"coconut\"}, {\"fruit\":\"durian\"}]')\n",
    "            ) as t(id, fruits), lateral flatten(input => t.fruits)\n",
    "            \"\"\", read=\"snowflake\").sql(dialect=\"duckdb\")"
   ]
  }
 ],
 "metadata": {
  "kernelspec": {
   "display_name": ".venv",
   "language": "python",
   "name": "python3"
  },
  "language_info": {
   "codemirror_mode": {
    "name": "ipython",
    "version": 3
   },
   "file_extension": ".py",
   "mimetype": "text/x-python",
   "name": "python",
   "nbconvert_exporter": "python",
   "pygments_lexer": "ipython3",
   "version": "3.9.18"
  },
  "orig_nbformat": 4,
  "vscode": {
   "interpreter": {
    "hash": "f59249d332647baa27896e48b602655774b2ab27cda0296fe135a6398572f9c3"
   }
  }
 },
 "nbformat": 4,
 "nbformat_minor": 2
}
